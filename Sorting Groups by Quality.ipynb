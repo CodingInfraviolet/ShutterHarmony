{
 "cells": [
  {
   "cell_type": "code",
   "execution_count": 11,
   "metadata": {},
   "outputs": [],
   "source": [
    "import cv2\n",
    "import rawpy\n",
    "import os\n",
    "import os.path as path\n",
    "import glob\n",
    "import numpy as np\n",
    "import scipy.spatial\n",
    "import ipdb\n",
    "import os\n",
    "import platform\n",
    "import multiprocessing\n",
    "import json\n",
    "from functools import lru_cache\n",
    "from collections import namedtuple\n",
    "from matplotlib import pyplot as plot"
   ]
  },
  {
   "cell_type": "code",
   "execution_count": 12,
   "metadata": {},
   "outputs": [],
   "source": [
    "%matplotlib qt"
   ]
  },
  {
   "cell_type": "code",
   "execution_count": 13,
   "metadata": {},
   "outputs": [],
   "source": [
    "def visualise_clusters(clusters):\n",
    "    image_size = clusters[0][0].icon_medium.shape[0]\n",
    "    number_of_images = np.sum([len(cluster) for cluster in clusters])\n",
    "    hr_height = 25\n",
    "    vr_length = 25\n",
    "    \n",
    "    max_images_per_column = 4\n",
    "    columns = int(number_of_images / max_images_per_column) + 1\n",
    "    \n",
    "    width = (image_size + vr_length) * columns\n",
    "    height = image_size * number_of_images + hr_height * len(clusters)\n",
    "    buffer = np.zeros((height, width, 3))\n",
    "    \n",
    "    i = 0\n",
    "    hr_offset = 0\n",
    "    for cluster in clusters:\n",
    "        for iImage, image in enumerate(cluster):\n",
    "            column = int(i / max_images_per_column)\n",
    "            if column != int((i - 1) / max_images_per_column):\n",
    "                if iImage == 0:\n",
    "                    hr_offset = hr_height\n",
    "                else:\n",
    "                    hr_offset = 0\n",
    "            row_offset = i * image_size + hr_offset - column * max_images_per_column * image_size\n",
    "            column_offset = int(i / max_images_per_column) * image_size\n",
    "            buffer[row_offset:row_offset + image_size,column_offset:column_offset + image_size,:] = image.icon_medium\n",
    "            i = i + 1\n",
    "        hr_offset = hr_offset + hr_height\n",
    "    cv2.imshow(\"Clusters\", buffer / np.max(buffer))\n",
    "    cv2.waitKey(1)"
   ]
  },
  {
   "cell_type": "markdown",
   "metadata": {},
   "source": [
    "# Load images defined in groups generated in Image Grouping notebook\n",
    "This time, a high resolution version of the image is also loaded. This is because sharpness can't be measured on small images."
   ]
  },
  {
   "cell_type": "code",
   "execution_count": 14,
   "metadata": {},
   "outputs": [
    {
     "name": "stdout",
     "output_type": "stream",
     "text": [
      "Loading images\n",
      "Done!\n"
     ]
    }
   ],
   "source": [
    "print(\"Loading images\")\n",
    "\n",
    "with open(\"grouped_images.json\") as file:\n",
    "    groups = json.load(file)\n",
    "\n",
    "#!!!!!\n",
    "groups = groups\n",
    "    \n",
    "Image = namedtuple('Image', 'cropped_high_resolution icon icon_medium icon_large features filename timestamp')\n",
    "\n",
    "def creation_date(path_to_file):\n",
    "    \"\"\"\n",
    "    Try to get the date that a file was created, falling back to when it was\n",
    "    last modified if that isn't possible.\n",
    "    See http://stackoverflow.com/a/39501288/1709587 for explanation.\n",
    "    \"\"\"\n",
    "    if platform.system() == 'Windows':\n",
    "        return os.path.getctime(path_to_file)\n",
    "    else:\n",
    "        stat = os.stat(path_to_file)\n",
    "        try:\n",
    "            return stat.st_birthtime\n",
    "        except AttributeError:\n",
    "            # We're probably on Linux. No easy way to get creation dates here,\n",
    "            # so we'll settle for when its content was last modified.\n",
    "            return stat.st_mtime\n",
    "\n",
    "cpu_pool = multiprocessing.Pool(multiprocessing.cpu_count() * 2)\n",
    "\n",
    "def load_image(image_filename):\n",
    "    raw_image = rawpy.imread(image_filename)\n",
    "    rgb_image = raw_image.postprocess(use_camera_wb=True, output_bps=8)\n",
    "    \n",
    "    if rgb_image.shape[0] < rgb_image.shape[1]:\n",
    "        centre = int(rgb_image.shape[1] / 2)\n",
    "        height_full = rgb_image.shape[0]\n",
    "        height_half = int(height_full / 2)\n",
    "        crop_start = centre - height_half\n",
    "        cropped_rgb_image = rgb_image[:, crop_start:crop_start + height_full]\n",
    "    else:\n",
    "        raise Exception(\"Oops\")\n",
    "        \n",
    "    icon = cv2.resize(rgb_image, (100, 100))\n",
    "    icon_medium = cv2.resize(rgb_image, (200, 200))\n",
    "    icon_large = cv2.resize(rgb_image, (300, 300))\n",
    "    features = icon\n",
    "    modified_time = creation_date(image_filename)\n",
    "\n",
    "    return Image(cropped_rgb_image, icon, icon_medium, icon_large, features, image_filename, modified_time)\n",
    "\n",
    "groups = list(map(lambda group: list(map(load_image, group)), groups))\n",
    "\n",
    "print(\"Done!\")"
   ]
  },
  {
   "cell_type": "markdown",
   "metadata": {},
   "source": [
    "# Measure image sharpness\n",
    "This function was derived from the paper \"Image Sharpness Measure for Blurred Images in Frequency\n",
    "Domain\" by Kanjar De and V. Masilamani. See https://ac.els-cdn.com/S1877705813016007/1-s2.0-S1877705813016007-main.pdf?_tid=f95122a8-c9be-45ec-90a7-e15fb5ecaed3&acdnat=1551129901_433e1bc6f9e722f8250c67330dc43d4a\n",
    "\n",
    "Input: Image I of size M×N.\n",
    "\n",
    "Output: Image Quality measure (FM) where FM stands for Frequency Domain Image Blur Measure\n",
    "\n",
    "1. Compute F which is the Fourier Transform representation of image I\n",
    "2. Find Fc which is obtained by shifting the origin of F to centre.\n",
    "3. Calculate AF = abs (Fc) where AF is the absolute value of the centered Fourier transform of image I.\n",
    "4. Calculate M = max (AF) where M is the maximum value of the frequency component in F.\n",
    "5. Calculate TH = the total number of pixels in F whose pixel value > thres, where thres = M/1000.\n",
    "6. Calculate Image Quality measure (FM) from equation (1). \n",
    "\n",
    "Image Quality Measure (FM) = TH / (M * N)"
   ]
  },
  {
   "cell_type": "code",
   "execution_count": 15,
   "metadata": {},
   "outputs": [],
   "source": [
    "def image_sharpness(image_mat):\n",
    "    fourier_transform = np.abs(np.fft.fftshift(np.fft.fft2(image_mat)))\n",
    "    maximum_value = np.max(fourier_transform)\n",
    "    e = maximum_value / 1000\n",
    "    th = np.sum(fourier_transform > e)\n",
    "    total_pixels = fourier_transform.shape[0] * fourier_transform.shape[1]\n",
    "    \n",
    "    return th / (fourier_transform.shape[0] * fourier_transform.shape[1])\n"
   ]
  },
  {
   "cell_type": "code",
   "execution_count": 16,
   "metadata": {},
   "outputs": [],
   "source": [
    "# sharpness = list(map(lambda group: list(map(lambda image: image_sharpness(image.cropped_high_resolution), group)), groups))"
   ]
  },
  {
   "cell_type": "code",
   "execution_count": 17,
   "metadata": {},
   "outputs": [],
   "source": [
    "sorted_groups = list(map(lambda group: list(reversed(sorted(group, key=lambda image: image_sharpness(image.cropped_high_resolution)))), groups))"
   ]
  },
  {
   "cell_type": "code",
   "execution_count": 18,
   "metadata": {},
   "outputs": [],
   "source": [
    "visualise_clusters(sorted_groups)"
   ]
  },
  {
   "cell_type": "code",
   "execution_count": 19,
   "metadata": {},
   "outputs": [],
   "source": [
    "textified_groups = list(map(lambda group: list(map(lambda image: image.filename, group)), sorted_groups))\n",
    "\n",
    "with open('grouped_and_sorted_images.json', 'w') as outfile:\n",
    "    json.dump(textified_groups, outfile)"
   ]
  },
  {
   "cell_type": "code",
   "execution_count": null,
   "metadata": {},
   "outputs": [],
   "source": [
    "target_folder = \"target_folder\"\n",
    "\n",
    "for i, group in enumerate(sorted_groups):\n",
    "    print(\"mkdir {0}\".format(path.join(target_folder, str(i))))\n",
    "    for image in group:\n",
    "        print(\"mv {0} {1}\".format(image.filepath, path.join(target_folder, str(i)) + \"/\"))"
   ]
  }
 ],
 "metadata": {
  "kernelspec": {
   "display_name": "Python 3",
   "language": "python",
   "name": "python3"
  },
  "language_info": {
   "codemirror_mode": {
    "name": "ipython",
    "version": 3
   },
   "file_extension": ".py",
   "mimetype": "text/x-python",
   "name": "python",
   "nbconvert_exporter": "python",
   "pygments_lexer": "ipython3",
   "version": "3.7.1"
  }
 },
 "nbformat": 4,
 "nbformat_minor": 2
}
